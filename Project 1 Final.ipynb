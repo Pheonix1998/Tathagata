{
 "cells": [
  {
   "cell_type": "markdown",
   "id": "a9383470-eca9-403e-b617-aff4b2257579",
   "metadata": {},
   "source": [
    "Problem Statement:"
   ]
  },
  {
   "cell_type": "markdown",
   "id": "178e0fa0-42cd-43dc-b89f-190a9c6fd6cd",
   "metadata": {},
   "source": [
    "The Seoul Bike Sharing System has observed fluctuations in the number of bikes rented daily. To optimize bike availability and enhance user satisfaction, it is crucial to understand the factors influencing bike rental patterns. The dataset includes various attributes such as date, hourly rented bike counts, weather conditions (temperature, humidity, wind speed, visibility, dew point temperature, solar radiation, rainfall, snowfall), seasonal information, holidays, and whether it was a functioning day. The goal is to analyze this data to identify key factors affecting bike rental demand and develop predictive models to forecast future bike rental counts accurately."
   ]
  },
  {
   "cell_type": "markdown",
   "id": "150c6b98-d396-4619-b0d2-071f74d3364f",
   "metadata": {},
   "source": [
    "1) Random Forest"
   ]
  },
  {
   "cell_type": "code",
   "execution_count": 57,
   "id": "b98ab3a8-2397-4753-8595-af0a2a9625b9",
   "metadata": {},
   "outputs": [],
   "source": [
    "import pandas as pd #Imports the pandas library for data manipulation and analysis.\n",
    "from sklearn.preprocessing import LabelEncoder # Imports the LabelEncoder class from scikit-learn to convert categorical labels into numerical values.\n",
    "from sklearn.tree import DecisionTreeClassifier # Imports the DecisionTreeClassifier class from scikit-learn to create decision tree models.\n",
    "from sklearn.ensemble import RandomForestClassifier # Imports the RandomForestClassifier class from scikit-learn to create random forest models, an ensemble of decision trees.\n",
    "from sklearn.model_selection import train_test_split # Imports the train_test_split function from scikit-learn to split the dataset into training and testing sets.\n",
    "from sklearn.metrics import accuracy_score,precision_score,recall_score,f1_score,confusion_matrix # Imports various evaluation metrics from scikit-learn to assess the performance of machine learning models."
   ]
  },
  {
   "cell_type": "code",
   "execution_count": 58,
   "id": "7cd34d8e-4472-4e8d-86e8-c2b1ab04f13f",
   "metadata": {},
   "outputs": [],
   "source": [
    "df=pd.read_csv(r\"E:\\SNIGDHA\\IMI-K Course Outline & Study Material\\Term-IV\\Data Analytics & Machine Learning\\Midterm Assignment\\Project 1\\SeoulBikeData.csv\",encoding='unicode_escape')\n",
    "# initializing the data in csv format"
   ]
  },
  {
   "cell_type": "code",
   "execution_count": 59,
   "id": "229fdc1f-6b87-4487-b9dc-154f5d9e0985",
   "metadata": {},
   "outputs": [
    {
     "data": {
      "text/html": [
       "<div>\n",
       "<style scoped>\n",
       "    .dataframe tbody tr th:only-of-type {\n",
       "        vertical-align: middle;\n",
       "    }\n",
       "\n",
       "    .dataframe tbody tr th {\n",
       "        vertical-align: top;\n",
       "    }\n",
       "\n",
       "    .dataframe thead th {\n",
       "        text-align: right;\n",
       "    }\n",
       "</style>\n",
       "<table border=\"1\" class=\"dataframe\">\n",
       "  <thead>\n",
       "    <tr style=\"text-align: right;\">\n",
       "      <th></th>\n",
       "      <th>Date</th>\n",
       "      <th>Rented Bike Count</th>\n",
       "      <th>Hour</th>\n",
       "      <th>Temperature(°C)</th>\n",
       "      <th>Humidity(%)</th>\n",
       "      <th>Wind speed (m/s)</th>\n",
       "      <th>Visibility (10m)</th>\n",
       "      <th>Dew point temperature(°C)</th>\n",
       "      <th>Solar Radiation (MJ/m2)</th>\n",
       "      <th>Rainfall(mm)</th>\n",
       "      <th>Snowfall (cm)</th>\n",
       "      <th>Seasons</th>\n",
       "      <th>Holiday</th>\n",
       "      <th>Functioning Day</th>\n",
       "    </tr>\n",
       "  </thead>\n",
       "  <tbody>\n",
       "    <tr>\n",
       "      <th>0</th>\n",
       "      <td>01-12-2017</td>\n",
       "      <td>254</td>\n",
       "      <td>0</td>\n",
       "      <td>-5.2</td>\n",
       "      <td>37</td>\n",
       "      <td>2.2</td>\n",
       "      <td>2000</td>\n",
       "      <td>-17.6</td>\n",
       "      <td>0.0</td>\n",
       "      <td>0.0</td>\n",
       "      <td>0.0</td>\n",
       "      <td>Winter</td>\n",
       "      <td>No Holiday</td>\n",
       "      <td>Yes</td>\n",
       "    </tr>\n",
       "    <tr>\n",
       "      <th>1</th>\n",
       "      <td>01-12-2017</td>\n",
       "      <td>204</td>\n",
       "      <td>1</td>\n",
       "      <td>-5.5</td>\n",
       "      <td>38</td>\n",
       "      <td>0.8</td>\n",
       "      <td>2000</td>\n",
       "      <td>-17.6</td>\n",
       "      <td>0.0</td>\n",
       "      <td>0.0</td>\n",
       "      <td>0.0</td>\n",
       "      <td>Winter</td>\n",
       "      <td>No Holiday</td>\n",
       "      <td>Yes</td>\n",
       "    </tr>\n",
       "    <tr>\n",
       "      <th>2</th>\n",
       "      <td>01-12-2017</td>\n",
       "      <td>173</td>\n",
       "      <td>2</td>\n",
       "      <td>-6.0</td>\n",
       "      <td>39</td>\n",
       "      <td>1.0</td>\n",
       "      <td>2000</td>\n",
       "      <td>-17.7</td>\n",
       "      <td>0.0</td>\n",
       "      <td>0.0</td>\n",
       "      <td>0.0</td>\n",
       "      <td>Winter</td>\n",
       "      <td>No Holiday</td>\n",
       "      <td>Yes</td>\n",
       "    </tr>\n",
       "    <tr>\n",
       "      <th>3</th>\n",
       "      <td>01-12-2017</td>\n",
       "      <td>107</td>\n",
       "      <td>3</td>\n",
       "      <td>-6.2</td>\n",
       "      <td>40</td>\n",
       "      <td>0.9</td>\n",
       "      <td>2000</td>\n",
       "      <td>-17.6</td>\n",
       "      <td>0.0</td>\n",
       "      <td>0.0</td>\n",
       "      <td>0.0</td>\n",
       "      <td>Winter</td>\n",
       "      <td>No Holiday</td>\n",
       "      <td>Yes</td>\n",
       "    </tr>\n",
       "    <tr>\n",
       "      <th>4</th>\n",
       "      <td>01-12-2017</td>\n",
       "      <td>78</td>\n",
       "      <td>4</td>\n",
       "      <td>-6.0</td>\n",
       "      <td>36</td>\n",
       "      <td>2.3</td>\n",
       "      <td>2000</td>\n",
       "      <td>-18.6</td>\n",
       "      <td>0.0</td>\n",
       "      <td>0.0</td>\n",
       "      <td>0.0</td>\n",
       "      <td>Winter</td>\n",
       "      <td>No Holiday</td>\n",
       "      <td>Yes</td>\n",
       "    </tr>\n",
       "  </tbody>\n",
       "</table>\n",
       "</div>"
      ],
      "text/plain": [
       "         Date  Rented Bike Count  Hour  Temperature(°C)  Humidity(%)  \\\n",
       "0  01-12-2017                254     0             -5.2           37   \n",
       "1  01-12-2017                204     1             -5.5           38   \n",
       "2  01-12-2017                173     2             -6.0           39   \n",
       "3  01-12-2017                107     3             -6.2           40   \n",
       "4  01-12-2017                 78     4             -6.0           36   \n",
       "\n",
       "   Wind speed (m/s)  Visibility (10m)  Dew point temperature(°C)  \\\n",
       "0               2.2              2000                      -17.6   \n",
       "1               0.8              2000                      -17.6   \n",
       "2               1.0              2000                      -17.7   \n",
       "3               0.9              2000                      -17.6   \n",
       "4               2.3              2000                      -18.6   \n",
       "\n",
       "   Solar Radiation (MJ/m2)  Rainfall(mm)  Snowfall (cm) Seasons     Holiday  \\\n",
       "0                      0.0           0.0            0.0  Winter  No Holiday   \n",
       "1                      0.0           0.0            0.0  Winter  No Holiday   \n",
       "2                      0.0           0.0            0.0  Winter  No Holiday   \n",
       "3                      0.0           0.0            0.0  Winter  No Holiday   \n",
       "4                      0.0           0.0            0.0  Winter  No Holiday   \n",
       "\n",
       "  Functioning Day  \n",
       "0             Yes  \n",
       "1             Yes  \n",
       "2             Yes  \n",
       "3             Yes  \n",
       "4             Yes  "
      ]
     },
     "execution_count": 59,
     "metadata": {},
     "output_type": "execute_result"
    }
   ],
   "source": [
    "df.head()\n",
    "#Displays the first five rows of the dataframe `df`, providing a quick look at the structure and contents of the data."
   ]
  },
  {
   "cell_type": "code",
   "execution_count": 60,
   "id": "ffdedf81-396b-45da-a48a-2f7d6bed0524",
   "metadata": {},
   "outputs": [
    {
     "data": {
      "text/plain": [
       "Date                         0\n",
       "Rented Bike Count            0\n",
       "Hour                         0\n",
       "Temperature(°C)              0\n",
       "Humidity(%)                  0\n",
       "Wind speed (m/s)             0\n",
       "Visibility (10m)             0\n",
       "Dew point temperature(°C)    0\n",
       "Solar Radiation (MJ/m2)      0\n",
       "Rainfall(mm)                 0\n",
       "Snowfall (cm)                0\n",
       "Seasons                      0\n",
       "Holiday                      0\n",
       "Functioning Day              0\n",
       "dtype: int64"
      ]
     },
     "execution_count": 60,
     "metadata": {},
     "output_type": "execute_result"
    }
   ],
   "source": [
    "df.isna().sum()\n",
    "# Returns the number of missing values (NaNs) in each column of the dataframe `df`."
   ]
  },
  {
   "cell_type": "code",
   "execution_count": 61,
   "id": "a3fc5a3b-9e45-40ea-ad02-a62adf0acb02",
   "metadata": {},
   "outputs": [
    {
     "name": "stdout",
     "output_type": "stream",
     "text": [
      "<class 'pandas.core.frame.DataFrame'>\n",
      "RangeIndex: 8760 entries, 0 to 8759\n",
      "Data columns (total 14 columns):\n",
      " #   Column                     Non-Null Count  Dtype  \n",
      "---  ------                     --------------  -----  \n",
      " 0   Date                       8760 non-null   object \n",
      " 1   Rented Bike Count          8760 non-null   int64  \n",
      " 2   Hour                       8760 non-null   int64  \n",
      " 3   Temperature(°C)            8760 non-null   float64\n",
      " 4   Humidity(%)                8760 non-null   int64  \n",
      " 5   Wind speed (m/s)           8760 non-null   float64\n",
      " 6   Visibility (10m)           8760 non-null   int64  \n",
      " 7   Dew point temperature(°C)  8760 non-null   float64\n",
      " 8   Solar Radiation (MJ/m2)    8760 non-null   float64\n",
      " 9   Rainfall(mm)               8760 non-null   float64\n",
      " 10  Snowfall (cm)              8760 non-null   float64\n",
      " 11  Seasons                    8760 non-null   object \n",
      " 12  Holiday                    8760 non-null   object \n",
      " 13  Functioning Day            8760 non-null   object \n",
      "dtypes: float64(6), int64(4), object(4)\n",
      "memory usage: 958.3+ KB\n"
     ]
    }
   ],
   "source": [
    "df.info()\n",
    "# Provides a concise summary of the dataframe df, including the number of non-null entries, data types of each column, and memory usage."
   ]
  },
  {
   "cell_type": "code",
   "execution_count": 62,
   "id": "8593c02c-372e-4933-9f13-c074f74bc85e",
   "metadata": {},
   "outputs": [],
   "source": [
    "le=LabelEncoder() \n",
    "# Creates an instance of the LabelEncoder class to convert categorical labels into numerical values."
   ]
  },
  {
   "cell_type": "code",
   "execution_count": 63,
   "id": "dea6234e-3a37-4957-bf35-b2f8962ff511",
   "metadata": {},
   "outputs": [],
   "source": [
    "df['Seasons_Enc']=le.fit_transform(df['Seasons'])\n",
    "df['Holiday_Enc']=le.fit_transform(df['Holiday'])\n",
    "df['Functioning Day_Enc']=le.fit_transform(df['Functioning Day'])\n",
    "# Encodes the categorical columns into numerical values and assigns the result to a new column '_Enc'."
   ]
  },
  {
   "cell_type": "code",
   "execution_count": 64,
   "id": "a2a4b8a9-e5e6-4c63-a39a-491d5bb26780",
   "metadata": {},
   "outputs": [
    {
     "data": {
      "text/html": [
       "<div>\n",
       "<style scoped>\n",
       "    .dataframe tbody tr th:only-of-type {\n",
       "        vertical-align: middle;\n",
       "    }\n",
       "\n",
       "    .dataframe tbody tr th {\n",
       "        vertical-align: top;\n",
       "    }\n",
       "\n",
       "    .dataframe thead th {\n",
       "        text-align: right;\n",
       "    }\n",
       "</style>\n",
       "<table border=\"1\" class=\"dataframe\">\n",
       "  <thead>\n",
       "    <tr style=\"text-align: right;\">\n",
       "      <th></th>\n",
       "      <th>Date</th>\n",
       "      <th>Rented Bike Count</th>\n",
       "      <th>Hour</th>\n",
       "      <th>Temperature(°C)</th>\n",
       "      <th>Humidity(%)</th>\n",
       "      <th>Wind speed (m/s)</th>\n",
       "      <th>Visibility (10m)</th>\n",
       "      <th>Dew point temperature(°C)</th>\n",
       "      <th>Solar Radiation (MJ/m2)</th>\n",
       "      <th>Rainfall(mm)</th>\n",
       "      <th>Snowfall (cm)</th>\n",
       "      <th>Seasons</th>\n",
       "      <th>Holiday</th>\n",
       "      <th>Functioning Day</th>\n",
       "      <th>Seasons_Enc</th>\n",
       "      <th>Holiday_Enc</th>\n",
       "      <th>Functioning Day_Enc</th>\n",
       "    </tr>\n",
       "  </thead>\n",
       "  <tbody>\n",
       "    <tr>\n",
       "      <th>0</th>\n",
       "      <td>01-12-2017</td>\n",
       "      <td>254</td>\n",
       "      <td>0</td>\n",
       "      <td>-5.2</td>\n",
       "      <td>37</td>\n",
       "      <td>2.2</td>\n",
       "      <td>2000</td>\n",
       "      <td>-17.6</td>\n",
       "      <td>0.0</td>\n",
       "      <td>0.0</td>\n",
       "      <td>0.0</td>\n",
       "      <td>Winter</td>\n",
       "      <td>No Holiday</td>\n",
       "      <td>Yes</td>\n",
       "      <td>3</td>\n",
       "      <td>1</td>\n",
       "      <td>1</td>\n",
       "    </tr>\n",
       "    <tr>\n",
       "      <th>1</th>\n",
       "      <td>01-12-2017</td>\n",
       "      <td>204</td>\n",
       "      <td>1</td>\n",
       "      <td>-5.5</td>\n",
       "      <td>38</td>\n",
       "      <td>0.8</td>\n",
       "      <td>2000</td>\n",
       "      <td>-17.6</td>\n",
       "      <td>0.0</td>\n",
       "      <td>0.0</td>\n",
       "      <td>0.0</td>\n",
       "      <td>Winter</td>\n",
       "      <td>No Holiday</td>\n",
       "      <td>Yes</td>\n",
       "      <td>3</td>\n",
       "      <td>1</td>\n",
       "      <td>1</td>\n",
       "    </tr>\n",
       "  </tbody>\n",
       "</table>\n",
       "</div>"
      ],
      "text/plain": [
       "         Date  Rented Bike Count  Hour  Temperature(°C)  Humidity(%)  \\\n",
       "0  01-12-2017                254     0             -5.2           37   \n",
       "1  01-12-2017                204     1             -5.5           38   \n",
       "\n",
       "   Wind speed (m/s)  Visibility (10m)  Dew point temperature(°C)  \\\n",
       "0               2.2              2000                      -17.6   \n",
       "1               0.8              2000                      -17.6   \n",
       "\n",
       "   Solar Radiation (MJ/m2)  Rainfall(mm)  Snowfall (cm) Seasons     Holiday  \\\n",
       "0                      0.0           0.0            0.0  Winter  No Holiday   \n",
       "1                      0.0           0.0            0.0  Winter  No Holiday   \n",
       "\n",
       "  Functioning Day  Seasons_Enc  Holiday_Enc  Functioning Day_Enc  \n",
       "0             Yes            3            1                    1  \n",
       "1             Yes            3            1                    1  "
      ]
     },
     "execution_count": 64,
     "metadata": {},
     "output_type": "execute_result"
    }
   ],
   "source": [
    "df.head(2) # Displays the first two rows of the dataframe df, allowing for a quick preview of the initial entries in the data."
   ]
  },
  {
   "cell_type": "code",
   "execution_count": 65,
   "id": "0f174f3b-e4c7-4c5d-bc38-7e812f117921",
   "metadata": {},
   "outputs": [],
   "source": [
    "X=df[['Rented Bike Count','Temperature(°C)','Humidity(%)','Wind speed (m/s)','Visibility (10m)','Dew point temperature(°C)','Solar Radiation (MJ/m2)','Rainfall(mm)','Snowfall (cm)','Seasons_Enc','Holiday_Enc']]\n",
    "Y=df['Functioning Day_Enc']\n",
    "# Selects specific columns from the dataframe df to create the feature matrix X for the machine learning model.\n",
    "# Selects specific columns from the dataframe df to create the feature matrix Y (target variable) for the machine learning model."
   ]
  },
  {
   "cell_type": "code",
   "execution_count": 66,
   "id": "5234572f-4910-494c-b8ae-80bdd622c2c9",
   "metadata": {},
   "outputs": [],
   "source": [
    "X_train,X_test,Y_train,Y_test = train_test_split(X,Y,test_size = 0.3)\n",
    "# `train_test_split` splits the dataset into training and testing subsets, with 30% of the data allocated for testing and 70% for training."
   ]
  },
  {
   "cell_type": "code",
   "execution_count": 67,
   "id": "da305d1e-2715-4598-b08d-3efb3fdbf67f",
   "metadata": {},
   "outputs": [],
   "source": [
    "rf=RandomForestClassifier()\n",
    "# rf = RandomForestClassifier() initializes a random forest classifier model, which is an ensemble learning method used for classification tasks."
   ]
  },
  {
   "cell_type": "code",
   "execution_count": 68,
   "id": "076e7a23-d344-4450-bdcf-26fa2e68254b",
   "metadata": {},
   "outputs": [
    {
     "data": {
      "text/html": [
       "<style>#sk-container-id-5 {color: black;background-color: white;}#sk-container-id-5 pre{padding: 0;}#sk-container-id-5 div.sk-toggleable {background-color: white;}#sk-container-id-5 label.sk-toggleable__label {cursor: pointer;display: block;width: 100%;margin-bottom: 0;padding: 0.3em;box-sizing: border-box;text-align: center;}#sk-container-id-5 label.sk-toggleable__label-arrow:before {content: \"▸\";float: left;margin-right: 0.25em;color: #696969;}#sk-container-id-5 label.sk-toggleable__label-arrow:hover:before {color: black;}#sk-container-id-5 div.sk-estimator:hover label.sk-toggleable__label-arrow:before {color: black;}#sk-container-id-5 div.sk-toggleable__content {max-height: 0;max-width: 0;overflow: hidden;text-align: left;background-color: #f0f8ff;}#sk-container-id-5 div.sk-toggleable__content pre {margin: 0.2em;color: black;border-radius: 0.25em;background-color: #f0f8ff;}#sk-container-id-5 input.sk-toggleable__control:checked~div.sk-toggleable__content {max-height: 200px;max-width: 100%;overflow: auto;}#sk-container-id-5 input.sk-toggleable__control:checked~label.sk-toggleable__label-arrow:before {content: \"▾\";}#sk-container-id-5 div.sk-estimator input.sk-toggleable__control:checked~label.sk-toggleable__label {background-color: #d4ebff;}#sk-container-id-5 div.sk-label input.sk-toggleable__control:checked~label.sk-toggleable__label {background-color: #d4ebff;}#sk-container-id-5 input.sk-hidden--visually {border: 0;clip: rect(1px 1px 1px 1px);clip: rect(1px, 1px, 1px, 1px);height: 1px;margin: -1px;overflow: hidden;padding: 0;position: absolute;width: 1px;}#sk-container-id-5 div.sk-estimator {font-family: monospace;background-color: #f0f8ff;border: 1px dotted black;border-radius: 0.25em;box-sizing: border-box;margin-bottom: 0.5em;}#sk-container-id-5 div.sk-estimator:hover {background-color: #d4ebff;}#sk-container-id-5 div.sk-parallel-item::after {content: \"\";width: 100%;border-bottom: 1px solid gray;flex-grow: 1;}#sk-container-id-5 div.sk-label:hover label.sk-toggleable__label {background-color: #d4ebff;}#sk-container-id-5 div.sk-serial::before {content: \"\";position: absolute;border-left: 1px solid gray;box-sizing: border-box;top: 0;bottom: 0;left: 50%;z-index: 0;}#sk-container-id-5 div.sk-serial {display: flex;flex-direction: column;align-items: center;background-color: white;padding-right: 0.2em;padding-left: 0.2em;position: relative;}#sk-container-id-5 div.sk-item {position: relative;z-index: 1;}#sk-container-id-5 div.sk-parallel {display: flex;align-items: stretch;justify-content: center;background-color: white;position: relative;}#sk-container-id-5 div.sk-item::before, #sk-container-id-5 div.sk-parallel-item::before {content: \"\";position: absolute;border-left: 1px solid gray;box-sizing: border-box;top: 0;bottom: 0;left: 50%;z-index: -1;}#sk-container-id-5 div.sk-parallel-item {display: flex;flex-direction: column;z-index: 1;position: relative;background-color: white;}#sk-container-id-5 div.sk-parallel-item:first-child::after {align-self: flex-end;width: 50%;}#sk-container-id-5 div.sk-parallel-item:last-child::after {align-self: flex-start;width: 50%;}#sk-container-id-5 div.sk-parallel-item:only-child::after {width: 0;}#sk-container-id-5 div.sk-dashed-wrapped {border: 1px dashed gray;margin: 0 0.4em 0.5em 0.4em;box-sizing: border-box;padding-bottom: 0.4em;background-color: white;}#sk-container-id-5 div.sk-label label {font-family: monospace;font-weight: bold;display: inline-block;line-height: 1.2em;}#sk-container-id-5 div.sk-label-container {text-align: center;}#sk-container-id-5 div.sk-container {/* jupyter's `normalize.less` sets `[hidden] { display: none; }` but bootstrap.min.css set `[hidden] { display: none !important; }` so we also need the `!important` here to be able to override the default hidden behavior on the sphinx rendered scikit-learn.org. See: https://github.com/scikit-learn/scikit-learn/issues/21755 */display: inline-block !important;position: relative;}#sk-container-id-5 div.sk-text-repr-fallback {display: none;}</style><div id=\"sk-container-id-5\" class=\"sk-top-container\"><div class=\"sk-text-repr-fallback\"><pre>RandomForestClassifier()</pre><b>In a Jupyter environment, please rerun this cell to show the HTML representation or trust the notebook. <br />On GitHub, the HTML representation is unable to render, please try loading this page with nbviewer.org.</b></div><div class=\"sk-container\" hidden><div class=\"sk-item\"><div class=\"sk-estimator sk-toggleable\"><input class=\"sk-toggleable__control sk-hidden--visually\" id=\"sk-estimator-id-5\" type=\"checkbox\" checked><label for=\"sk-estimator-id-5\" class=\"sk-toggleable__label sk-toggleable__label-arrow\">RandomForestClassifier</label><div class=\"sk-toggleable__content\"><pre>RandomForestClassifier()</pre></div></div></div></div></div>"
      ],
      "text/plain": [
       "RandomForestClassifier()"
      ]
     },
     "execution_count": 68,
     "metadata": {},
     "output_type": "execute_result"
    }
   ],
   "source": [
    "rf.fit(X_train,Y_train)\n",
    "# rf.fit(X_train, Y_train) trains the random forest classifier on the training data (X_train and Y_train)."
   ]
  },
  {
   "cell_type": "code",
   "execution_count": 69,
   "id": "c1fed1ba-8a83-4e00-bf5c-51fac44e7092",
   "metadata": {},
   "outputs": [
    {
     "data": {
      "text/plain": [
       "Rented Bike Count            0.908154\n",
       "Seasons_Enc                  0.026203\n",
       "Dew point temperature(°C)    0.018885\n",
       "Temperature(°C)              0.015698\n",
       "Visibility (10m)             0.008631\n",
       "Humidity(%)                  0.007954\n",
       "Wind speed (m/s)             0.006738\n",
       "Solar Radiation (MJ/m2)      0.006051\n",
       "Rainfall(mm)                 0.000833\n",
       "Holiday_Enc                  0.000760\n",
       "Snowfall (cm)                0.000092\n",
       "dtype: float64"
      ]
     },
     "execution_count": 69,
     "metadata": {},
     "output_type": "execute_result"
    }
   ],
   "source": [
    "feature_imp = pd.Series(rf.feature_importances_,index=X_train.columns).sort_values(ascending=False)\n",
    "feature_imp\n",
    "# This code creates a pandas Series of feature importances from the trained random forest model (rf), where each feature's importance is associated with its column name, sorts them in descending order, and then displays the sorted feature importances."
   ]
  },
  {
   "cell_type": "code",
   "execution_count": 70,
   "id": "2221849f-e3ba-4c20-ad27-0ae600fd8d41",
   "metadata": {},
   "outputs": [],
   "source": [
    "X=df[['Rented Bike Count','Temperature(°C)','Humidity(%)','Wind speed (m/s)','Visibility (10m)','Dew point temperature(°C)','Seasons_Enc']]\n",
    "Y=df['Functioning Day_Enc']\n",
    "# Selects specific columns from the dataframe df to create the feature matrix X for the machine learning model.\n",
    "# Selects specific columns from the dataframe df to create the feature matrix Y (target variable) for the machine learning model."
   ]
  },
  {
   "cell_type": "code",
   "execution_count": 71,
   "id": "95037e5f-c84a-4d25-8a3a-8a8310379be5",
   "metadata": {},
   "outputs": [],
   "source": [
    "X_train,X_test,Y_train,Y_test = train_test_split(X,Y,test_size = 0.3)\n",
    "#`X_train, X_test, Y_train, Y_test = train_test_split(X, Y, test_size=0.3)` splits the feature matrix `X` and target vector `Y` into training and testing subsets, with 30% of the data allocated for testing and 70% for training."
   ]
  },
  {
   "cell_type": "code",
   "execution_count": 72,
   "id": "5a314b12-b885-4bca-b9c0-9ea65adc1627",
   "metadata": {},
   "outputs": [],
   "source": [
    "rf=RandomForestClassifier()\n",
    "# rf = RandomForestClassifier() creates an instance of a random forest classifier, a machine learning model used for classification tasks that builds multiple decision trees and combines their predictions"
   ]
  },
  {
   "cell_type": "code",
   "execution_count": 73,
   "id": "4a420926-c385-4cb1-8605-66b93bc9a4ee",
   "metadata": {},
   "outputs": [
    {
     "data": {
      "text/html": [
       "<style>#sk-container-id-6 {color: black;background-color: white;}#sk-container-id-6 pre{padding: 0;}#sk-container-id-6 div.sk-toggleable {background-color: white;}#sk-container-id-6 label.sk-toggleable__label {cursor: pointer;display: block;width: 100%;margin-bottom: 0;padding: 0.3em;box-sizing: border-box;text-align: center;}#sk-container-id-6 label.sk-toggleable__label-arrow:before {content: \"▸\";float: left;margin-right: 0.25em;color: #696969;}#sk-container-id-6 label.sk-toggleable__label-arrow:hover:before {color: black;}#sk-container-id-6 div.sk-estimator:hover label.sk-toggleable__label-arrow:before {color: black;}#sk-container-id-6 div.sk-toggleable__content {max-height: 0;max-width: 0;overflow: hidden;text-align: left;background-color: #f0f8ff;}#sk-container-id-6 div.sk-toggleable__content pre {margin: 0.2em;color: black;border-radius: 0.25em;background-color: #f0f8ff;}#sk-container-id-6 input.sk-toggleable__control:checked~div.sk-toggleable__content {max-height: 200px;max-width: 100%;overflow: auto;}#sk-container-id-6 input.sk-toggleable__control:checked~label.sk-toggleable__label-arrow:before {content: \"▾\";}#sk-container-id-6 div.sk-estimator input.sk-toggleable__control:checked~label.sk-toggleable__label {background-color: #d4ebff;}#sk-container-id-6 div.sk-label input.sk-toggleable__control:checked~label.sk-toggleable__label {background-color: #d4ebff;}#sk-container-id-6 input.sk-hidden--visually {border: 0;clip: rect(1px 1px 1px 1px);clip: rect(1px, 1px, 1px, 1px);height: 1px;margin: -1px;overflow: hidden;padding: 0;position: absolute;width: 1px;}#sk-container-id-6 div.sk-estimator {font-family: monospace;background-color: #f0f8ff;border: 1px dotted black;border-radius: 0.25em;box-sizing: border-box;margin-bottom: 0.5em;}#sk-container-id-6 div.sk-estimator:hover {background-color: #d4ebff;}#sk-container-id-6 div.sk-parallel-item::after {content: \"\";width: 100%;border-bottom: 1px solid gray;flex-grow: 1;}#sk-container-id-6 div.sk-label:hover label.sk-toggleable__label {background-color: #d4ebff;}#sk-container-id-6 div.sk-serial::before {content: \"\";position: absolute;border-left: 1px solid gray;box-sizing: border-box;top: 0;bottom: 0;left: 50%;z-index: 0;}#sk-container-id-6 div.sk-serial {display: flex;flex-direction: column;align-items: center;background-color: white;padding-right: 0.2em;padding-left: 0.2em;position: relative;}#sk-container-id-6 div.sk-item {position: relative;z-index: 1;}#sk-container-id-6 div.sk-parallel {display: flex;align-items: stretch;justify-content: center;background-color: white;position: relative;}#sk-container-id-6 div.sk-item::before, #sk-container-id-6 div.sk-parallel-item::before {content: \"\";position: absolute;border-left: 1px solid gray;box-sizing: border-box;top: 0;bottom: 0;left: 50%;z-index: -1;}#sk-container-id-6 div.sk-parallel-item {display: flex;flex-direction: column;z-index: 1;position: relative;background-color: white;}#sk-container-id-6 div.sk-parallel-item:first-child::after {align-self: flex-end;width: 50%;}#sk-container-id-6 div.sk-parallel-item:last-child::after {align-self: flex-start;width: 50%;}#sk-container-id-6 div.sk-parallel-item:only-child::after {width: 0;}#sk-container-id-6 div.sk-dashed-wrapped {border: 1px dashed gray;margin: 0 0.4em 0.5em 0.4em;box-sizing: border-box;padding-bottom: 0.4em;background-color: white;}#sk-container-id-6 div.sk-label label {font-family: monospace;font-weight: bold;display: inline-block;line-height: 1.2em;}#sk-container-id-6 div.sk-label-container {text-align: center;}#sk-container-id-6 div.sk-container {/* jupyter's `normalize.less` sets `[hidden] { display: none; }` but bootstrap.min.css set `[hidden] { display: none !important; }` so we also need the `!important` here to be able to override the default hidden behavior on the sphinx rendered scikit-learn.org. See: https://github.com/scikit-learn/scikit-learn/issues/21755 */display: inline-block !important;position: relative;}#sk-container-id-6 div.sk-text-repr-fallback {display: none;}</style><div id=\"sk-container-id-6\" class=\"sk-top-container\"><div class=\"sk-text-repr-fallback\"><pre>RandomForestClassifier()</pre><b>In a Jupyter environment, please rerun this cell to show the HTML representation or trust the notebook. <br />On GitHub, the HTML representation is unable to render, please try loading this page with nbviewer.org.</b></div><div class=\"sk-container\" hidden><div class=\"sk-item\"><div class=\"sk-estimator sk-toggleable\"><input class=\"sk-toggleable__control sk-hidden--visually\" id=\"sk-estimator-id-6\" type=\"checkbox\" checked><label for=\"sk-estimator-id-6\" class=\"sk-toggleable__label sk-toggleable__label-arrow\">RandomForestClassifier</label><div class=\"sk-toggleable__content\"><pre>RandomForestClassifier()</pre></div></div></div></div></div>"
      ],
      "text/plain": [
       "RandomForestClassifier()"
      ]
     },
     "execution_count": 73,
     "metadata": {},
     "output_type": "execute_result"
    }
   ],
   "source": [
    "rf.fit(X_train,Y_train)\n",
    "# rf.fit(X_train, Y_train) trains the random forest classifier (rf) using the training data (X_train and Y_train)"
   ]
  },
  {
   "cell_type": "code",
   "execution_count": 74,
   "id": "891a9af2-d1a9-4fc8-a6ed-6a003accdaac",
   "metadata": {},
   "outputs": [],
   "source": [
    "Y_pred=rf.predict(X_test)"
   ]
  },
  {
   "cell_type": "code",
   "execution_count": 75,
   "id": "34064077-dab6-45a8-b638-2cd76c89d582",
   "metadata": {},
   "outputs": [
    {
     "name": "stdout",
     "output_type": "stream",
     "text": [
      "Random Forest Classification Performance :\n",
      "accuracy: 1.0 , precision: 1.0 , recall: 1.0 , f1score: 1.0\n"
     ]
    }
   ],
   "source": [
    "print(\"Random Forest Classification Performance :\")\n",
    "print(\"accuracy:\",accuracy_score(Y_test,Y_pred),\",\",\"precision:\",precision_score(Y_test,Y_pred),\",\",\"recall:\",recall_score(Y_test,Y_pred),\",\",\"f1score:\",f1_score(Y_test,Y_pred))\n",
    "# This code prints the performance metrics of the random forest classifier by calculating accuracy, precision, recall, and F1 score based on the true labels (Y_test) and the predicted labels (Y_pred). Make sure Y_pred is defined by calling rf.predict(X_test) before printing the metrics"
   ]
  },
  {
   "cell_type": "code",
   "execution_count": 23,
   "id": "f9aaa6ef-0684-470d-9eba-9d9206fd8079",
   "metadata": {},
   "outputs": [
    {
     "data": {
      "text/plain": [
       "array([[ 106,    0],\n",
       "       [   0, 2522]], dtype=int64)"
      ]
     },
     "execution_count": 23,
     "metadata": {},
     "output_type": "execute_result"
    }
   ],
   "source": [
    "confusion_matrix(Y_test,Y_pred) # `confusion_matrix(Y_test, Y_pred)` computes the confusion matrix for the true labels (`Y_test`) and the predicted labels (`Y_pred`), which shows the number of true positives, true negatives, false positives, and false negatives, helping to evaluate the performance of the classifier"
   ]
  },
  {
   "cell_type": "markdown",
   "id": "caf16072-4d7d-4511-b6a6-c884202cb5ba",
   "metadata": {},
   "source": [
    "-------------------------------------------------------------------------------------------------------------------------------\n",
    "2) K -Nearest Neighbour"
   ]
  },
  {
   "cell_type": "code",
   "execution_count": 24,
   "id": "6d05eccc-77b0-40c9-a501-6fd588877cc3",
   "metadata": {},
   "outputs": [],
   "source": [
    "import pandas as pd\n",
    "from matplotlib import pyplot as plt\n",
    "from sklearn.preprocessing import LabelEncoder\n",
    "from sklearn.neighbors import KNeighborsClassifier\n",
    "from sklearn.model_selection import train_test_split\n",
    "from sklearn.metrics import accuracy_score,precision_score,recall_score,f1_score,confusion_matrix"
   ]
  },
  {
   "cell_type": "code",
   "execution_count": 25,
   "id": "63d892f7-9acd-4f2e-95f2-b6d34398e2b9",
   "metadata": {},
   "outputs": [],
   "source": [
    "df=pd.read_csv('C://Users//DELL//Desktop//4th Sem//Machine learning//Project//SeoulBikeData.csv',encoding='unicode_escape')"
   ]
  },
  {
   "cell_type": "code",
   "execution_count": 41,
   "id": "99747a76-e807-4cc7-9932-d9c4db919494",
   "metadata": {},
   "outputs": [],
   "source": [
    "le=LabelEncoder()\n",
    "df['Seasons_Enc']=le.fit_transform(df['Seasons'])\n",
    "df['Holiday_Enc']=le.fit_transform(df['Holiday'])\n",
    "df['Functioning Day_Enc']=le.fit_transform(df['Functioning Day'])"
   ]
  },
  {
   "cell_type": "code",
   "execution_count": 27,
   "id": "84c61138-65fe-4a8b-865e-606993919637",
   "metadata": {},
   "outputs": [],
   "source": [
    "X=df[['Rented Bike Count','Temperature(°C)','Humidity(%)','Wind speed (m/s)','Visibility (10m)','Dew point temperature(°C)','Seasons_Enc']]\n",
    "Y=df['Functioning Day_Enc']"
   ]
  },
  {
   "cell_type": "code",
   "execution_count": 28,
   "id": "5eb85ae7-a44e-4831-bf08-49d217aa0e7d",
   "metadata": {},
   "outputs": [],
   "source": [
    "X_train,X_test,Y_train,Y_test = train_test_split(X,Y,test_size = 0.3,random_state=1,stratify=Y) \n",
    "# X_train, X_test, Y_train, Y_test = train_test_split(X, Y, test_size=0.3, random_state=1, stratify=Y) splits the dataset into training and testing subsets with 30% of the data reserved for testing, ensuring reproducibility with random_state=1 and preserving the class distribution in both subsets by using stratify=Y."
   ]
  },
  {
   "cell_type": "code",
   "execution_count": 29,
   "id": "0dc120a7-e535-4b00-a99d-c6befb979a70",
   "metadata": {},
   "outputs": [
    {
     "data": {
      "image/png": "[encoded data removed]",
      "text/plain": [
       "<Figure size 1000x600 with 1 Axes>"
      ]
     },
     "metadata": {},
     "output_type": "display_data"
    },
    {
     "name": "stdout",
     "output_type": "stream",
     "text": [
      "Minimum error:- 0.0053272450532724225 at K = 5\n"
     ]
    }
   ],
   "source": [
    "error_rate = []\n",
    "for i in range(1,40):\n",
    " knn = KNeighborsClassifier(n_neighbors=i)\n",
    " knn.fit(X_train,Y_train)\n",
    " pred_i = knn.predict(X_test)\n",
    " #print (pred_i)\n",
    " #print (1-accuracy_score(y_test, pred_i))\n",
    " error_rate.append(1-accuracy_score(Y_test, pred_i))\n",
    "\n",
    "plt.figure(figsize=(10,6))\n",
    "plt.plot(range(1,40),error_rate,color='blue', linestyle='dashed', \n",
    "         marker='o',markerfacecolor='red', markersize=10)\n",
    "plt.title('Error Rate vs. K Value')\n",
    "plt.xlabel('K')\n",
    "plt.ylabel('Error Rate')\n",
    "plt.show()\n",
    "print(\"Minimum error:-\",min(error_rate),\"at K =\",error_rate.index(min(error_rate))+1)\n",
    "\n",
    "#this code evaluates the error rate of a k-nearest neighbors classifier for different values of k, ranging from 1 to 39, and plots the error rate against k:\n",
    "\n",
    "#Loop through values of k: For each value from 1 to 39, a KNeighborsClassifier is instantiated with n_neighbors=i, trained on the training data, and used to make predictions on the test data.\n",
    "\n",
    "#Calculate error rate: The error rate is computed as 1 - accuracy_score(Y_test, pred_i) and appended to the error_rate list.\n",
    "\n",
    "#Plot the results: A plot of the error rate versus k is generated, with markers indicating the value of k.\n",
    "\n",
    "#Find and print the minimum error rate: The minimum error rate and its corresponding k value are printed."
   ]
  },
  {
   "cell_type": "code",
   "execution_count": 30,
   "id": "69b2c992-6abb-4c0e-98f1-aee149b980f5",
   "metadata": {},
   "outputs": [
    {
     "data": {
      "text/html": [
       "<style>#sk-container-id-3 {color: black;background-color: white;}#sk-container-id-3 pre{padding: 0;}#sk-container-id-3 div.sk-toggleable {background-color: white;}#sk-container-id-3 label.sk-toggleable__label {cursor: pointer;display: block;width: 100%;margin-bottom: 0;padding: 0.3em;box-sizing: border-box;text-align: center;}#sk-container-id-3 label.sk-toggleable__label-arrow:before {content: \"▸\";float: left;margin-right: 0.25em;color: #696969;}#sk-container-id-3 label.sk-toggleable__label-arrow:hover:before {color: black;}#sk-container-id-3 div.sk-estimator:hover label.sk-toggleable__label-arrow:before {color: black;}#sk-container-id-3 div.sk-toggleable__content {max-height: 0;max-width: 0;overflow: hidden;text-align: left;background-color: #f0f8ff;}#sk-container-id-3 div.sk-toggleable__content pre {margin: 0.2em;color: black;border-radius: 0.25em;background-color: #f0f8ff;}#sk-container-id-3 input.sk-toggleable__control:checked~div.sk-toggleable__content {max-height: 200px;max-width: 100%;overflow: auto;}#sk-container-id-3 input.sk-toggleable__control:checked~label.sk-toggleable__label-arrow:before {content: \"▾\";}#sk-container-id-3 div.sk-estimator input.sk-toggleable__control:checked~label.sk-toggleable__label {background-color: #d4ebff;}#sk-container-id-3 div.sk-label input.sk-toggleable__control:checked~label.sk-toggleable__label {background-color: #d4ebff;}#sk-container-id-3 input.sk-hidden--visually {border: 0;clip: rect(1px 1px 1px 1px);clip: rect(1px, 1px, 1px, 1px);height: 1px;margin: -1px;overflow: hidden;padding: 0;position: absolute;width: 1px;}#sk-container-id-3 div.sk-estimator {font-family: monospace;background-color: #f0f8ff;border: 1px dotted black;border-radius: 0.25em;box-sizing: border-box;margin-bottom: 0.5em;}#sk-container-id-3 div.sk-estimator:hover {background-color: #d4ebff;}#sk-container-id-3 div.sk-parallel-item::after {content: \"\";width: 100%;border-bottom: 1px solid gray;flex-grow: 1;}#sk-container-id-3 div.sk-label:hover label.sk-toggleable__label {background-color: #d4ebff;}#sk-container-id-3 div.sk-serial::before {content: \"\";position: absolute;border-left: 1px solid gray;box-sizing: border-box;top: 0;bottom: 0;left: 50%;z-index: 0;}#sk-container-id-3 div.sk-serial {display: flex;flex-direction: column;align-items: center;background-color: white;padding-right: 0.2em;padding-left: 0.2em;position: relative;}#sk-container-id-3 div.sk-item {position: relative;z-index: 1;}#sk-container-id-3 div.sk-parallel {display: flex;align-items: stretch;justify-content: center;background-color: white;position: relative;}#sk-container-id-3 div.sk-item::before, #sk-container-id-3 div.sk-parallel-item::before {content: \"\";position: absolute;border-left: 1px solid gray;box-sizing: border-box;top: 0;bottom: 0;left: 50%;z-index: -1;}#sk-container-id-3 div.sk-parallel-item {display: flex;flex-direction: column;z-index: 1;position: relative;background-color: white;}#sk-container-id-3 div.sk-parallel-item:first-child::after {align-self: flex-end;width: 50%;}#sk-container-id-3 div.sk-parallel-item:last-child::after {align-self: flex-start;width: 50%;}#sk-container-id-3 div.sk-parallel-item:only-child::after {width: 0;}#sk-container-id-3 div.sk-dashed-wrapped {border: 1px dashed gray;margin: 0 0.4em 0.5em 0.4em;box-sizing: border-box;padding-bottom: 0.4em;background-color: white;}#sk-container-id-3 div.sk-label label {font-family: monospace;font-weight: bold;display: inline-block;line-height: 1.2em;}#sk-container-id-3 div.sk-label-container {text-align: center;}#sk-container-id-3 div.sk-container {/* jupyter's `normalize.less` sets `[hidden] { display: none; }` but bootstrap.min.css set `[hidden] { display: none !important; }` so we also need the `!important` here to be able to override the default hidden behavior on the sphinx rendered scikit-learn.org. See: https://github.com/scikit-learn/scikit-learn/issues/21755 */display: inline-block !important;position: relative;}#sk-container-id-3 div.sk-text-repr-fallback {display: none;}</style><div id=\"sk-container-id-3\" class=\"sk-top-container\"><div class=\"sk-text-repr-fallback\"><pre>KNeighborsClassifier(metric=&#x27;euclidean&#x27;)</pre><b>In a Jupyter environment, please rerun this cell to show the HTML representation or trust the notebook. <br />On GitHub, the HTML representation is unable to render, please try loading this page with nbviewer.org.</b></div><div class=\"sk-container\" hidden><div class=\"sk-item\"><div class=\"sk-estimator sk-toggleable\"><input class=\"sk-toggleable__control sk-hidden--visually\" id=\"sk-estimator-id-3\" type=\"checkbox\" checked><label for=\"sk-estimator-id-3\" class=\"sk-toggleable__label sk-toggleable__label-arrow\">KNeighborsClassifier</label><div class=\"sk-toggleable__content\"><pre>KNeighborsClassifier(metric=&#x27;euclidean&#x27;)</pre></div></div></div></div></div>"
      ],
      "text/plain": [
       "KNeighborsClassifier(metric='euclidean')"
      ]
     },
     "execution_count": 30,
     "metadata": {},
     "output_type": "execute_result"
    }
   ],
   "source": [
    "knn = KNeighborsClassifier(n_neighbors=5, metric='euclidean')\n",
    "knn.fit(X_train, Y_train)\n",
    "#knn = KNeighborsClassifier(n_neighbors=5, metric='euclidean') initializes a k-nearest neighbors classifier with 5 neighbors and Euclidean distance as the distance metric.\n",
    "#knn.fit(X_train, Y_train) trains the classifier using the training data (X_train and Y_train)."
   ]
  },
  {
   "cell_type": "code",
   "execution_count": 31,
   "id": "8ae290c6-af6b-43c8-9c6d-5a97693605aa",
   "metadata": {},
   "outputs": [],
   "source": [
    "Y_pred1 = knn.predict(X_test) # This code uses the trained k-nearest neighbors classifier (knn) to make predictions on the test data (X_test) and stores the predicted labels in Y_pred1"
   ]
  },
  {
   "cell_type": "code",
   "execution_count": 32,
   "id": "0893df0e-5096-476c-9dc1-4d437325e4b4",
   "metadata": {},
   "outputs": [
    {
     "data": {
      "text/plain": [
       "array([[  80,    8],\n",
       "       [   6, 2534]], dtype=int64)"
      ]
     },
     "execution_count": 32,
     "metadata": {},
     "output_type": "execute_result"
    }
   ],
   "source": [
    "confusion_matrix(Y_test, Y_pred1) # confusion_matrix(Y_test, Y_pred1) calculates the confusion matrix for the true labels (Y_test) and the predicted labels (Y_pred1), showing the counts of true positives, true negatives, false positives, and false negatives to evaluate the classifier’s performance."
   ]
  },
  {
   "cell_type": "code",
   "execution_count": 37,
   "id": "1dcc8d7a-c6ea-4969-8a0b-a0d9fbc8ea53",
   "metadata": {},
   "outputs": [
    {
     "name": "stdout",
     "output_type": "stream",
     "text": [
      "KNN Performance :\n",
      "Accuracy_Score: 0.9946727549467276 , Precision_Score: , 0.996852871754524 , Recall_Score: 0.9976377952755906 , F1_Score: 0.9972451790633609\n"
     ]
    }
   ],
   "source": [
    "print(\"KNN Performance :\")\n",
    "print('Accuracy_Score:' ,accuracy_score(Y_test, Y_pred1),\",\", \"Precision_Score:\",\",\",precision_score(Y_test, Y_pred1),\",\",\"Recall_Score:\",recall_score(Y_test, Y_pred1),\",\",\"F1_Score:\",f1_score(Y_test, Y_pred1))\n",
    "# The provided code prints the performance metrics for the k-nearest neighbors classifier, including accuracy, precision, recall, and F1 score"
   ]
  },
  {
   "cell_type": "markdown",
   "id": "d098dc8c-01e4-4744-afd5-3d779ce4515d",
   "metadata": {},
   "source": [
    "------------------------------------------------------------------------------------------------------------------------------\n",
    "3. XGBoost"
   ]
  },
  {
   "cell_type": "code",
   "execution_count": 38,
   "id": "0a31184c-c224-46fb-ae15-f1463ab0b9c9",
   "metadata": {},
   "outputs": [],
   "source": [
    "import numpy as np\n",
    "import pandas as pd\n",
    "from matplotlib import pyplot as plt\n",
    "from sklearn.metrics import confusion_matrix\n",
    "from sklearn.metrics import accuracy_score, precision_score, recall_score, f1_score"
   ]
  },
  {
   "cell_type": "code",
   "execution_count": 39,
   "id": "c52ab492-d0c5-4aea-bcbe-d9669059689e",
   "metadata": {},
   "outputs": [],
   "source": [
    "df=pd.read_csv('C://Users//DELL//Desktop//4th Sem//Machine learning//Project//SeoulBikeData.csv',encoding='unicode_escape')"
   ]
  },
  {
   "cell_type": "code",
   "execution_count": 2,
   "id": "814820cc-6d1a-4bc1-badc-f3af234c1316",
   "metadata": {},
   "outputs": [
    {
     "ename": "NameError",
     "evalue": "name 'LabelEncoder' is not defined",
     "output_type": "error",
     "traceback": [
      "\u001b[1;31m---------------------------------------------------------------------------\u001b[0m",
      "\u001b[1;31mNameError\u001b[0m                                 Traceback (most recent call last)",
      "Cell \u001b[1;32mIn[2], line 1\u001b[0m\n\u001b[1;32m----> 1\u001b[0m le\u001b[38;5;241m=\u001b[39mLabelEncoder()\n\u001b[0;32m      2\u001b[0m df[\u001b[38;5;124m'\u001b[39m\u001b[38;5;124mSeasons_Enc\u001b[39m\u001b[38;5;124m'\u001b[39m]\u001b[38;5;241m=\u001b[39mle\u001b[38;5;241m.\u001b[39mfit_transform(df[\u001b[38;5;124m'\u001b[39m\u001b[38;5;124mSeasons\u001b[39m\u001b[38;5;124m'\u001b[39m])\n\u001b[0;32m      3\u001b[0m df[\u001b[38;5;124m'\u001b[39m\u001b[38;5;124mHoliday_Enc\u001b[39m\u001b[38;5;124m'\u001b[39m]\u001b[38;5;241m=\u001b[39mle\u001b[38;5;241m.\u001b[39mfit_transform(df[\u001b[38;5;124m'\u001b[39m\u001b[38;5;124mHoliday\u001b[39m\u001b[38;5;124m'\u001b[39m])\n",
      "\u001b[1;31mNameError\u001b[0m: name 'LabelEncoder' is not defined"
     ]
    }
   ],
   "source": [
    "le=LabelEncoder()\n",
    "df['Seasons_Enc']=le.fit_transform(df['Seasons'])\n",
    "df['Holiday_Enc']=le.fit_transform(df['Holiday'])\n",
    "df['Functioning Day_Enc']=le.fit_transform(df['Functioning Day'])\n",
    "# Each categorical feature is transformed into a numeric format suitable for machine learning models. If the categorical variables have different values or are to be used separately, make sure to instantiate LabelEncoder separately for each column."
   ]
  },
  {
   "cell_type": "code",
   "execution_count": 43,
   "id": "a1a3d903-f585-4162-aaea-739318961262",
   "metadata": {},
   "outputs": [],
   "source": [
    "X=df[['Rented Bike Count','Temperature(°C)','Humidity(%)','Wind speed (m/s)','Visibility (10m)','Dew point temperature(°C)','Seasons_Enc']]\n",
    "Y=df['Functioning Day_Enc']"
   ]
  },
  {
   "cell_type": "code",
   "execution_count": 44,
   "id": "6389317e-edfb-4d29-8d21-4642948a4f9d",
   "metadata": {},
   "outputs": [],
   "source": [
    "X_train,X_test,Y_train,Y_test = train_test_split(X,Y,test_size = 0.3)"
   ]
  },
  {
   "cell_type": "code",
   "execution_count": 54,
   "id": "13b332e6-0255-43fc-95b2-d84b248ce26a",
   "metadata": {},
   "outputs": [],
   "source": [
    "import xgboost as xgb\n",
    "model = xgb.XGBClassifier()"
   ]
  },
  {
   "cell_type": "code",
   "execution_count": 55,
   "id": "77e643fc-6e6d-415b-960e-1065f7c71273",
   "metadata": {},
   "outputs": [
    {
     "data": {
      "text/html": [
       "<style>#sk-container-id-6 {color: black;background-color: white;}#sk-container-id-6 pre{padding: 0;}#sk-container-id-6 div.sk-toggleable {background-color: white;}#sk-container-id-6 label.sk-toggleable__label {cursor: pointer;display: block;width: 100%;margin-bottom: 0;padding: 0.3em;box-sizing: border-box;text-align: center;}#sk-container-id-6 label.sk-toggleable__label-arrow:before {content: \"▸\";float: left;margin-right: 0.25em;color: #696969;}#sk-container-id-6 label.sk-toggleable__label-arrow:hover:before {color: black;}#sk-container-id-6 div.sk-estimator:hover label.sk-toggleable__label-arrow:before {color: black;}#sk-container-id-6 div.sk-toggleable__content {max-height: 0;max-width: 0;overflow: hidden;text-align: left;background-color: #f0f8ff;}#sk-container-id-6 div.sk-toggleable__content pre {margin: 0.2em;color: black;border-radius: 0.25em;background-color: #f0f8ff;}#sk-container-id-6 input.sk-toggleable__control:checked~div.sk-toggleable__content {max-height: 200px;max-width: 100%;overflow: auto;}#sk-container-id-6 input.sk-toggleable__control:checked~label.sk-toggleable__label-arrow:before {content: \"▾\";}#sk-container-id-6 div.sk-estimator input.sk-toggleable__control:checked~label.sk-toggleable__label {background-color: #d4ebff;}#sk-container-id-6 div.sk-label input.sk-toggleable__control:checked~label.sk-toggleable__label {background-color: #d4ebff;}#sk-container-id-6 input.sk-hidden--visually {border: 0;clip: rect(1px 1px 1px 1px);clip: rect(1px, 1px, 1px, 1px);height: 1px;margin: -1px;overflow: hidden;padding: 0;position: absolute;width: 1px;}#sk-container-id-6 div.sk-estimator {font-family: monospace;background-color: #f0f8ff;border: 1px dotted black;border-radius: 0.25em;box-sizing: border-box;margin-bottom: 0.5em;}#sk-container-id-6 div.sk-estimator:hover {background-color: #d4ebff;}#sk-container-id-6 div.sk-parallel-item::after {content: \"\";width: 100%;border-bottom: 1px solid gray;flex-grow: 1;}#sk-container-id-6 div.sk-label:hover label.sk-toggleable__label {background-color: #d4ebff;}#sk-container-id-6 div.sk-serial::before {content: \"\";position: absolute;border-left: 1px solid gray;box-sizing: border-box;top: 0;bottom: 0;left: 50%;z-index: 0;}#sk-container-id-6 div.sk-serial {display: flex;flex-direction: column;align-items: center;background-color: white;padding-right: 0.2em;padding-left: 0.2em;position: relative;}#sk-container-id-6 div.sk-item {position: relative;z-index: 1;}#sk-container-id-6 div.sk-parallel {display: flex;align-items: stretch;justify-content: center;background-color: white;position: relative;}#sk-container-id-6 div.sk-item::before, #sk-container-id-6 div.sk-parallel-item::before {content: \"\";position: absolute;border-left: 1px solid gray;box-sizing: border-box;top: 0;bottom: 0;left: 50%;z-index: -1;}#sk-container-id-6 div.sk-parallel-item {display: flex;flex-direction: column;z-index: 1;position: relative;background-color: white;}#sk-container-id-6 div.sk-parallel-item:first-child::after {align-self: flex-end;width: 50%;}#sk-container-id-6 div.sk-parallel-item:last-child::after {align-self: flex-start;width: 50%;}#sk-container-id-6 div.sk-parallel-item:only-child::after {width: 0;}#sk-container-id-6 div.sk-dashed-wrapped {border: 1px dashed gray;margin: 0 0.4em 0.5em 0.4em;box-sizing: border-box;padding-bottom: 0.4em;background-color: white;}#sk-container-id-6 div.sk-label label {font-family: monospace;font-weight: bold;display: inline-block;line-height: 1.2em;}#sk-container-id-6 div.sk-label-container {text-align: center;}#sk-container-id-6 div.sk-container {/* jupyter's `normalize.less` sets `[hidden] { display: none; }` but bootstrap.min.css set `[hidden] { display: none !important; }` so we also need the `!important` here to be able to override the default hidden behavior on the sphinx rendered scikit-learn.org. See: https://github.com/scikit-learn/scikit-learn/issues/21755 */display: inline-block !important;position: relative;}#sk-container-id-6 div.sk-text-repr-fallback {display: none;}</style><div id=\"sk-container-id-6\" class=\"sk-top-container\"><div class=\"sk-text-repr-fallback\"><pre>XGBClassifier(base_score=None, booster=None, callbacks=None,\n",
       "              colsample_bylevel=None, colsample_bynode=None,\n",
       "              colsample_bytree=None, device=None, early_stopping_rounds=None,\n",
       "              enable_categorical=False, eval_metric=None, feature_types=None,\n",
       "              gamma=None, grow_policy=None, importance_type=None,\n",
       "              interaction_constraints=None, learning_rate=None, max_bin=None,\n",
       "              max_cat_threshold=None, max_cat_to_onehot=None,\n",
       "              max_delta_step=None, max_depth=None, max_leaves=None,\n",
       "              min_child_weight=None, missing=nan, monotone_constraints=None,\n",
       "              multi_strategy=None, n_estimators=None, n_jobs=None,\n",
       "              num_parallel_tree=None, random_state=None, ...)</pre><b>In a Jupyter environment, please rerun this cell to show the HTML representation or trust the notebook. <br />On GitHub, the HTML representation is unable to render, please try loading this page with nbviewer.org.</b></div><div class=\"sk-container\" hidden><div class=\"sk-item\"><div class=\"sk-estimator sk-toggleable\"><input class=\"sk-toggleable__control sk-hidden--visually\" id=\"sk-estimator-id-6\" type=\"checkbox\" checked><label for=\"sk-estimator-id-6\" class=\"sk-toggleable__label sk-toggleable__label-arrow\">XGBClassifier</label><div class=\"sk-toggleable__content\"><pre>XGBClassifier(base_score=None, booster=None, callbacks=None,\n",
       "              colsample_bylevel=None, colsample_bynode=None,\n",
       "              colsample_bytree=None, device=None, early_stopping_rounds=None,\n",
       "              enable_categorical=False, eval_metric=None, feature_types=None,\n",
       "              gamma=None, grow_policy=None, importance_type=None,\n",
       "              interaction_constraints=None, learning_rate=None, max_bin=None,\n",
       "              max_cat_threshold=None, max_cat_to_onehot=None,\n",
       "              max_delta_step=None, max_depth=None, max_leaves=None,\n",
       "              min_child_weight=None, missing=nan, monotone_constraints=None,\n",
       "              multi_strategy=None, n_estimators=None, n_jobs=None,\n",
       "              num_parallel_tree=None, random_state=None, ...)</pre></div></div></div></div></div>"
      ],
      "text/plain": [
       "XGBClassifier(base_score=None, booster=None, callbacks=None,\n",
       "              colsample_bylevel=None, colsample_bynode=None,\n",
       "              colsample_bytree=None, device=None, early_stopping_rounds=None,\n",
       "              enable_categorical=False, eval_metric=None, feature_types=None,\n",
       "              gamma=None, grow_policy=None, importance_type=None,\n",
       "              interaction_constraints=None, learning_rate=None, max_bin=None,\n",
       "              max_cat_threshold=None, max_cat_to_onehot=None,\n",
       "              max_delta_step=None, max_depth=None, max_leaves=None,\n",
       "              min_child_weight=None, missing=nan, monotone_constraints=None,\n",
       "              multi_strategy=None, n_estimators=None, n_jobs=None,\n",
       "              num_parallel_tree=None, random_state=None, ...)"
      ]
     },
     "execution_count": 55,
     "metadata": {},
     "output_type": "execute_result"
    }
   ],
   "source": [
    "model.fit(X_train,Y_train) # model.fit(X_train, Y_train) trains the machine learning model (denoted as model) using the training data (X_train and Y_train)."
   ]
  },
  {
   "cell_type": "code",
   "execution_count": 56,
   "id": "814ea513-be32-4d2b-b029-232d4d7f0985",
   "metadata": {},
   "outputs": [],
   "source": [
    "Y_pred2=model.predict(X_test) #Y_pred2 = model.predict(X_test) uses the trained model to make predictions on the test data (X_test) and stores the predicted labels in Y_pred2."
   ]
  },
  {
   "cell_type": "code",
   "execution_count": 57,
   "id": "79e7de1d-fadf-41b9-b544-c1c2c45f5b89",
   "metadata": {},
   "outputs": [
    {
     "data": {
      "text/plain": [
       "array([[  90,    2],\n",
       "       [   1, 2535]], dtype=int64)"
      ]
     },
     "execution_count": 57,
     "metadata": {},
     "output_type": "execute_result"
    }
   ],
   "source": [
    "confusion_matrix(Y_test, Y_pred2)\n",
    "#confusion_matrix(Y_test, Y_pred2) computes the confusion matrix for the true labels (Y_test) and the predicted labels (Y_pred2), which provides a summary of the prediction results in terms of true positives, true negatives, false positives, and false negatives."
   ]
  },
  {
   "cell_type": "code",
   "execution_count": 58,
   "id": "c401a011-3a58-4346-9b15-1097c6ad3ed5",
   "metadata": {},
   "outputs": [
    {
     "name": "stdout",
     "output_type": "stream",
     "text": [
      "XGBoostPerformance :\n",
      "Accuracy_Score: 0.9988584474885844 , Precision_Score: , 0.9992116673236106 , Recall_Score: 0.9996056782334385 , F1_Score: 0.9994086339444116\n"
     ]
    }
   ],
   "source": [
    "print(\"XGBoostPerformance :\")\n",
    "print('Accuracy_Score:' ,accuracy_score(Y_test, Y_pred2),\",\", \"Precision_Score:\",\",\",precision_score(Y_test, Y_pred2),\",\",\"Recall_Score:\",recall_score(Y_test, Y_pred2),\",\",\"F1_Score:\",f1_score(Y_test, Y_pred2))\n",
    "\n",
    "# This code prints the performance metrics for the XGBoost classifier (or any other model) on the test data, including accuracy, precision, recall, and F1 score"
   ]
  },
  {
   "attachments": {},
   "cell_type": "markdown",
   "id": "ae3e7346-800f-460c-baa7-1d6d49b40f81",
   "metadata": {},
   "source": [
    "-----------------------------------------------------------------------------------------------------------------------------\n",
    "Comparison of the performance of the 3 Models: Random Forest, KNN & XGBoost\n",
    "\n",
    "Random Forest (RF) shows perfect metrics across all performance measures, making it the best-performing model in this specific dataset. However, typically, such perfect scores can be a sign of overfitting, so it's crucial to cross-validate these results on different datasets or use regularization techniques if needed.\n",
    "\n",
    "1st preference - Random Forest\n",
    "\n",
    "2nd preference - XGBoost\n",
    "\n",
    "3rd preference - KNN"
   ]
  },
  {
   "cell_type": "markdown",
   "id": "999917c0-6916-4d88-8836-47789224268f",
   "metadata": {},
   "source": [
    "------------------------------------------------------------------------------------------------------------------------------\n",
    "Taking new Record to predict :"
   ]
  },
  {
   "cell_type": "code",
   "execution_count": 108,
   "id": "b9a233c3-fd99-4d0f-9bb6-bee00415ba9a",
   "metadata": {},
   "outputs": [
    {
     "data": {
      "text/html": [
       "<div>\n",
       "<style scoped>\n",
       "    .dataframe tbody tr th:only-of-type {\n",
       "        vertical-align: middle;\n",
       "    }\n",
       "\n",
       "    .dataframe tbody tr th {\n",
       "        vertical-align: top;\n",
       "    }\n",
       "\n",
       "    .dataframe thead th {\n",
       "        text-align: right;\n",
       "    }\n",
       "</style>\n",
       "<table border=\"1\" class=\"dataframe\">\n",
       "  <thead>\n",
       "    <tr style=\"text-align: right;\">\n",
       "      <th></th>\n",
       "      <th>Rented Bike Count</th>\n",
       "      <th>Temperature(°C)</th>\n",
       "      <th>Humidity(%)</th>\n",
       "      <th>Wind speed (m/s)</th>\n",
       "      <th>Visibility (10m)</th>\n",
       "      <th>Dew point temperature(°C)</th>\n",
       "      <th>Seasons_Enc</th>\n",
       "    </tr>\n",
       "  </thead>\n",
       "  <tbody>\n",
       "    <tr>\n",
       "      <th>1713</th>\n",
       "      <td>222</td>\n",
       "      <td>1.6</td>\n",
       "      <td>78</td>\n",
       "      <td>2.0</td>\n",
       "      <td>260</td>\n",
       "      <td>-1.8</td>\n",
       "      <td>3</td>\n",
       "    </tr>\n",
       "    <tr>\n",
       "      <th>1230</th>\n",
       "      <td>36</td>\n",
       "      <td>-3.1</td>\n",
       "      <td>54</td>\n",
       "      <td>1.4</td>\n",
       "      <td>1037</td>\n",
       "      <td>-11.1</td>\n",
       "      <td>3</td>\n",
       "    </tr>\n",
       "  </tbody>\n",
       "</table>\n",
       "</div>"
      ],
      "text/plain": [
       "      Rented Bike Count  Temperature(°C)  Humidity(%)  Wind speed (m/s)  \\\n",
       "1713                222              1.6           78               2.0   \n",
       "1230                 36             -3.1           54               1.4   \n",
       "\n",
       "      Visibility (10m)  Dew point temperature(°C)  Seasons_Enc  \n",
       "1713               260                       -1.8            3  \n",
       "1230              1037                      -11.1            3  "
      ]
     },
     "execution_count": 108,
     "metadata": {},
     "output_type": "execute_result"
    }
   ],
   "source": [
    "X_train.head(2)\n",
    "#to check the columns of the training model, and to create the new_data "
   ]
  },
  {
   "cell_type": "code",
   "execution_count": 113,
   "id": "85c86055-95ce-47c3-b8cf-ea4c51ef2cf2",
   "metadata": {},
   "outputs": [],
   "source": [
    "new_data1=pd.read_csv(r\"C:\\Users\\snigd\\Downloads\\new_data1.csv\",encoding='unicode_escape')\n",
    "# to read the new data "
   ]
  },
  {
   "cell_type": "code",
   "execution_count": 114,
   "id": "44da220c-88f4-418c-b02d-dbc206a81861",
   "metadata": {},
   "outputs": [
    {
     "data": {
      "text/html": [
       "<div>\n",
       "<style scoped>\n",
       "    .dataframe tbody tr th:only-of-type {\n",
       "        vertical-align: middle;\n",
       "    }\n",
       "\n",
       "    .dataframe tbody tr th {\n",
       "        vertical-align: top;\n",
       "    }\n",
       "\n",
       "    .dataframe thead th {\n",
       "        text-align: right;\n",
       "    }\n",
       "</style>\n",
       "<table border=\"1\" class=\"dataframe\">\n",
       "  <thead>\n",
       "    <tr style=\"text-align: right;\">\n",
       "      <th></th>\n",
       "      <th>Rented Bike Count</th>\n",
       "      <th>Temperature(°C)</th>\n",
       "      <th>Humidity(%)</th>\n",
       "      <th>Wind speed (m/s)</th>\n",
       "      <th>Visibility (10m)</th>\n",
       "      <th>Dew point temperature(°C)</th>\n",
       "      <th>Seasons_Enc</th>\n",
       "    </tr>\n",
       "  </thead>\n",
       "  <tbody>\n",
       "    <tr>\n",
       "      <th>0</th>\n",
       "      <td>254</td>\n",
       "      <td>-5.2</td>\n",
       "      <td>37</td>\n",
       "      <td>2.2</td>\n",
       "      <td>2000</td>\n",
       "      <td>-17.6</td>\n",
       "      <td>3</td>\n",
       "    </tr>\n",
       "  </tbody>\n",
       "</table>\n",
       "</div>"
      ],
      "text/plain": [
       "   Rented Bike Count  Temperature(°C)  Humidity(%)  Wind speed (m/s)  \\\n",
       "0                254             -5.2           37               2.2   \n",
       "\n",
       "   Visibility (10m)  Dew point temperature(°C)  Seasons_Enc  \n",
       "0              2000                      -17.6            3  "
      ]
     },
     "execution_count": 114,
     "metadata": {},
     "output_type": "execute_result"
    }
   ],
   "source": [
    "new_data1\n",
    "# print the new data"
   ]
  },
  {
   "cell_type": "code",
   "execution_count": 115,
   "id": "e2fd2f30-616f-40d7-b04e-4246bbe68f2a",
   "metadata": {},
   "outputs": [
    {
     "data": {
      "text/plain": [
       "array([1])"
      ]
     },
     "execution_count": 115,
     "metadata": {},
     "output_type": "execute_result"
    }
   ],
   "source": [
    "rf.predict(new_data1)\n",
    "# The predicted value of the new data"
   ]
  },
  {
   "cell_type": "code",
   "execution_count": 118,
   "id": "d8205e1f-81f5-4295-a4c0-c36c2aa03b56",
   "metadata": {},
   "outputs": [
    {
     "data": {
      "text/plain": [
       "array([1, 0, 1, ..., 1, 1, 1])"
      ]
     },
     "execution_count": 118,
     "metadata": {},
     "output_type": "execute_result"
    }
   ],
   "source": [
    "Y_pred\n",
    "#The predicted value of the previous data in model"
   ]
  },
  {
   "cell_type": "markdown",
   "id": "727e6869-3086-4e92-8f74-982e5ff0e249",
   "metadata": {},
   "source": [
    "From this we can see that the new data value and the value given by the model are matching so the model is working good and giving right results. "
   ]
  }
 ],
 "metadata": {
  "kernelspec": {
   "display_name": "Python 3 (ipykernel)",
   "language": "python",
   "name": "python3"
  },
  "language_info": {
   "codemirror_mode": {
    "name": "ipython",
    "version": 3
   },
   "file_extension": ".py",
   "mimetype": "text/x-python",
   "name": "python",
   "nbconvert_exporter": "python",
   "pygments_lexer": "ipython3",
   "version": "3.11.7"
  }
 },
 "nbformat": 4,
 "nbformat_minor": 5
}
